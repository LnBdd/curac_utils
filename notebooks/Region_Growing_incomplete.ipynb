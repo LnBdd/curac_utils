{
 "cells": [
  {
   "cell_type": "markdown",
   "metadata": {},
   "source": [
    "# Region Growing"
   ]
  },
  {
   "cell_type": "code",
   "execution_count": 7,
   "metadata": {},
   "outputs": [],
   "source": [
    "import numpy as np\n",
    "from skimage.data import binary_blobs\n",
    "from skimage.io import imshow"
   ]
  },
  {
   "cell_type": "code",
   "execution_count": 8,
   "metadata": {},
   "outputs": [
    {
     "data": {
      "text/plain": [
       "<matplotlib.image.AxesImage at 0x1a24c0e310>"
      ]
     },
     "execution_count": 8,
     "metadata": {},
     "output_type": "execute_result"
    },
    {
     "data": {
      "image/png": "[encoded data removed]",
      "text/plain": [
       "<Figure size 432x288 with 2 Axes>"
      ]
     },
     "metadata": {
      "needs_background": "light"
     },
     "output_type": "display_data"
    }
   ],
   "source": [
    "# create simple binary image\n",
    "\n",
    "img = binary_blobs(length=20, blob_size_fraction=0.05).astype('uint8')*10\n",
    "imshow(img)"
   ]
  },
  {
   "cell_type": "code",
   "execution_count": 9,
   "metadata": {},
   "outputs": [],
   "source": [
    "# helper function to check 4- and 8-neighborhood\n",
    "\n",
    "def check_neighbors(img, e, neighborhood):\n",
    "    assert neighborhood in [4, 8]\n",
    "    neighbors = []\n",
    "    \n",
    "    (h, w) = img.shape\n",
    "    \n",
    "    # left\n",
    "    if e[1]-1 >= 0 and img[e[0], e[1]-1] == img[e[0], e[1]]:\n",
    "        neighbors.append([e[0], e[1]-1])\n",
    "    \n",
    "    # right\n",
    "    if e[1]+1 < w and img[e[0], e[1]+1] == img[e[0], e[1]]:\n",
    "        neighbors.append([e[0], e[1]+1])\n",
    "        \n",
    "    # top\n",
    "    if e[0]-1 >= 0 and img[e[0]-1, e[1]] == img[e[0], e[1]]:\n",
    "        neighbors.append([e[0]-1, e[1]])\n",
    "        \n",
    "    # down\n",
    "    if e[0]+1 < h and img[e[0]+1, e[1]] == img[e[0], e[1]]:\n",
    "        neighbors.append([e[0]+1, e[1]])\n",
    "    \n",
    "    if neighborhood == 8:\n",
    "        # top-left\n",
    "        if e[0]-1 >= 0 and e[1]-1 >= 0 and img[e[0]-1, e[1]-1] == img[e[0], e[1]]:\n",
    "            neighbors.append([e[0]-1, e[1]-1])\n",
    "\n",
    "        # top-right\n",
    "        if e[0]-1 >= 0 and e[1]+1 < w and img[e[0]-1, e[1]+1] == img[e[0], e[1]]:\n",
    "            neighbors.append([e[0]-1, e[1]+1])\n",
    "\n",
    "        # down-left\n",
    "        if e[0]+1 < h and e[1]-1 >= 0 and img[e[0]+1, e[1]-1] == img[e[0], e[1]]:\n",
    "            neighbors.append([e[0]+1, e[1]-1])\n",
    "\n",
    "        # down-right\n",
    "        if e[0]+1 < h and e[1]+1 < w and img[e[0]+1, e[1]+1] == img[e[0], e[1]]:\n",
    "            neighbors.append([e[0]+1, e[1]+1])\n",
    "    \n",
    "    return neighbors"
   ]
  },
  {
   "cell_type": "code",
   "execution_count": 10,
   "metadata": {},
   "outputs": [],
   "source": [
    "# write naive region growing algorithm with a todo fifo\n",
    "\n",
    "def region_growing(img, seed, neighborhood=4):\n",
    "    img = np.copy(img)\n",
    "    todo = [seed]\n",
    "    \n",
    "    while len(todo) > 0:\n",
    "        elem = todo.pop()\n",
    "\n",
    "        ...\n",
    "\n",
    "    return img"
   ]
  },
  {
   "cell_type": "code",
   "execution_count": 11,
   "metadata": {},
   "outputs": [
    {
     "data": {
      "text/plain": [
       "<matplotlib.image.AxesImage at 0x1a24da9ed0>"
      ]
     },
     "execution_count": 11,
     "metadata": {},
     "output_type": "execute_result"
    },
    {
     "data": {
      "image/png": "[encoded data removed]",
      "text/plain": [
       "<Figure size 432x288 with 2 Axes>"
      ]
     },
     "metadata": {
      "needs_background": "light"
     },
     "output_type": "display_data"
    }
   ],
   "source": [
    "seg4 = region_growing(img, [10,0], neighborhood=4)\n",
    "imshow(seg4)"
   ]
  },
  {
   "cell_type": "code",
   "execution_count": 12,
   "metadata": {},
   "outputs": [
    {
     "data": {
      "text/plain": [
       "<matplotlib.image.AxesImage at 0x1a24f69b10>"
      ]
     },
     "execution_count": 12,
     "metadata": {},
     "output_type": "execute_result"
    },
    {
     "data": {
      "image/png": "[encoded data removed]",
      "text/plain": [
       "<Figure size 432x288 with 2 Axes>"
      ]
     },
     "metadata": {
      "needs_background": "light"
     },
     "output_type": "display_data"
    }
   ],
   "source": [
    "seg8 = region_growing(img, [10,0], neighborhood=8)\n",
    "imshow(seg8)"
   ]
  },
  {
   "cell_type": "code",
   "execution_count": null,
   "metadata": {},
   "outputs": [],
   "source": []
  }
 ],
 "metadata": {
  "kernelspec": {
   "display_name": "Python 3",
   "language": "python",
   "name": "python3"
  },
  "language_info": {
   "codemirror_mode": {
    "name": "ipython",
    "version": 3
   },
   "file_extension": ".py",
   "mimetype": "text/x-python",
   "name": "python",
   "nbconvert_exporter": "python",
   "pygments_lexer": "ipython3",
   "version": "3.7.7"
  }
 },
 "nbformat": 4,
 "nbformat_minor": 4
}
