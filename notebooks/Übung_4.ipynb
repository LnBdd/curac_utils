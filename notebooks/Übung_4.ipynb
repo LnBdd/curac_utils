{
  "nbformat": 4,
  "nbformat_minor": 0,
  "metadata": {
    "kernelspec": {
      "display_name": "Python 3",
      "language": "python",
      "name": "python3"
    },
    "language_info": {
      "codemirror_mode": {
        "name": "ipython",
        "version": 3
      },
      "file_extension": ".py",
      "mimetype": "text/x-python",
      "name": "python",
      "nbconvert_exporter": "python",
      "pygments_lexer": "ipython3",
      "version": "3.7.7"
    },
    "colab": {
      "name": "Übung_4.ipynb",
      "provenance": [],
      "collapsed_sections": [
        "9CMEB8uRBNkZ",
        "rvfYujnhBNka"
      ]
    }
  },
  "cells": [
    {
      "cell_type": "markdown",
      "metadata": {
        "id": "3fZKgZzSBNj8"
      },
      "source": [
        "# Übung 4: Registrierung"
      ]
    },
    {
      "cell_type": "code",
      "metadata": {
        "id": "vGj8shXpBNkE"
      },
      "source": [
        "!pip install git+https://github.com/LnBdd/curac_utils > /dev/null"
      ],
      "execution_count": null,
      "outputs": []
    },
    {
      "cell_type": "code",
      "metadata": {
        "id": "KW28N7xrBNkG"
      },
      "source": [
        "%matplotlib inline\n",
        "import numpy as np\n",
        "import matplotlib.pyplot as plt\n",
        "from skimage import io, img_as_float\n",
        "from curac_utils import Uebung_4"
      ],
      "execution_count": null,
      "outputs": []
    },
    {
      "cell_type": "markdown",
      "metadata": {
        "id": "M7LKwdW8BNkI"
      },
      "source": [
        "# Registrierung Aufgabe 2"
      ]
    },
    {
      "cell_type": "markdown",
      "metadata": {
        "id": "Fy7DNFMLBNkJ"
      },
      "source": [
        "Gegeben seien zwei Punktmengen:\n",
        "\n",
        "$$ \\mathbf{X}_{1} = \\{ x_{1,1}, \\ldots , x_{1,N} \\} $$\n",
        "\n",
        "$$ \\mathbf{X}_{2} = \\{ x_{2,1}, \\ldots , x_{2,N} \\} $$\n",
        "\n",
        "Gesucht: Translation $\\mathbf{t}$ und Rotation $\\mathbf{R}$, die die Summe der quadratischen Fehler minimiert:\n",
        "\n",
        "$$ E = \\frac{1}{N} \\sum_{i=1}^{N} \\Vert x_{1,i} - \\mathbf{R} x_{2,i} - \\mathbf{t} \\Vert^{2} $$"
      ]
    },
    {
      "cell_type": "code",
      "metadata": {
        "id": "Yvi2YO5IBNkK"
      },
      "source": [
        "# Hinweise: Die Punktmengen werden als homogene Koordinaten dargestellt (mit 1 erweitert)\n",
        "x_1, x_2 = Uebung_4.aufg_1_get_pointclouds()\n",
        "print(x_1)\n",
        "print(x_2)"
      ],
      "execution_count": null,
      "outputs": []
    },
    {
      "cell_type": "markdown",
      "metadata": {
        "id": "b9Jje8EbBNkK"
      },
      "source": [
        "Vorgehen zur Registrierung von Punktwolken:\n",
        "\n",
        "1. Berechne den Schwerpunkt der Punktmengen:\n",
        "\n",
        "$$ \\bar{x}_{j} = \\frac{1}{N} \\sum_{i=1}^{N} x_{j,i} $$\n",
        "\n",
        "2. Mache die Punktmenge mittelwertfrei (ziehe den Schwerpunkt von allen Punkten ab):\n",
        "\n",
        "$$ \\tilde{\\mathbf{X}}_{j} = \\{ x_{j,i} - \\bar{x}_{j} \\} $$\n",
        "\n",
        "3. Sei\n",
        "\n",
        "$$ W = \\sum_{i=1}^{N} \\tilde{x}_{1,i} \\tilde{x}_{2,i}^{\\mathsf{T}} $$\n",
        "\n",
        "4. Die Singulärwertzerlegung (singular value decomposition, SVD) von W sei\n",
        "\n",
        "$$ \\mathbf{W} = \\mathbf{U} \\mathbf{S} \\mathbf{V}^{\\mathsf{T}} $$\n",
        "\n",
        "5. __Theorem__ (ohne Beweis):\n",
        "\n",
        "Falls $\\mathrm{rang}(\\mathbf{W}) = 3$, dann ist die optimale Lösung für $E$ eindeutig gegeben durch\n",
        "\n",
        "$$ \\mathbf{R} = \\mathbf{U} \\mathbf{V}^{\\mathsf{T}} $$\n",
        "\n",
        "$$ \\mathbf{t} = \\bar{x}_{1} - \\mathbf{R} \\bar{x}_{2} $$"
      ]
    },
    {
      "cell_type": "markdown",
      "source": [
        "###Aufgabe 2 a.1)\n",
        "Bestimme die Transformation der Punktwolken,. Vervollständige folgenden Code:"
      ],
      "metadata": {
        "id": "u_gr-UINWgAD"
      }
    },
    {
      "cell_type": "code",
      "source": [
        "\n",
        "\n",
        "# Funktion zur Registrierung von 3D-Punktmengen\n",
        "def rigid_register_3d(a, b):\n",
        "    \n",
        "    # Schwerpunkt berechnen\n",
        "    centroid_a = ...\n",
        "    centroid_b = ...\n",
        "\n",
        "    # Schwerpunkt abziehen\n",
        "    a_m = ...\n",
        "    b_m = ...\n",
        "    \n",
        "    # Matrix W (Matrixmultiplikation mittels @ Operator)\n",
        "    W = ...\n",
        "\n",
        "    # SVD\n",
        "    u, s, vt = ...\n",
        "\n",
        "    # R und t berechnen\n",
        "    R = ...\n",
        "    t = ...\n",
        "    \n",
        "    # 4x4 Transformationsmatrix zusammensetzen\n",
        "    trans = np.eye(4)\n",
        "    trans[:3, :3] = R[:3, :3]\n",
        "    trans[:3, 3] = t[:3]\n",
        "    \n",
        "    return trans\n",
        "\n"
      ],
      "metadata": {
        "id": "abGSBE2YWtsz"
      },
      "execution_count": null,
      "outputs": []
    },
    {
      "cell_type": "code",
      "source": [
        "# Transformation berechnen\n",
        "trans = rigid_register_3d(x_1, x_2)\n",
        "\n",
        "# Transformierte Punkte ansehen\n",
        "print((trans @ x_1.T).T)"
      ],
      "metadata": {
        "id": "fAy2BflLa14r"
      },
      "execution_count": null,
      "outputs": []
    },
    {
      "cell_type": "markdown",
      "source": [
        "###Aufgabe 2 a.2)\n",
        "Bestime das Fehlermaß $\\text{FRE}$ bzw. $\\text{FRE}^2$ der registrierten Punktwolken"
      ],
      "metadata": {
        "id": "Yi64vIseWxNe"
      }
    },
    {
      "cell_type": "code",
      "source": [
        "# Funktion zur Berechnung des FREs\n",
        "def compute_fre(x_1, x_2):\n",
        "    # Mittelwert der quadrierten Differenzen\n",
        "    fre = ...\n",
        "    return fre\n",
        "\n",
        "# Punktmenge transformieren\n",
        "x_1_trans = (trans @ x_1.T).T, x_2\n",
        "\n",
        "# FRE\n",
        "compute_fre(x_1_trans, x_2)\n",
        "\n"
      ],
      "metadata": {
        "id": "g83Qp7xQW9eY"
      },
      "execution_count": null,
      "outputs": []
    },
    {
      "cell_type": "markdown",
      "source": [
        "### Aufgabe 2 b.1)\n",
        "Verwende die Bilder ohne künstliche Landmarken und definieren Sie natürliche Landmarken durch das Anklicken signifikanter Punkte. Bestimmen Sie die Transformation und berechnen Sie den FRE$^{2}$"
      ],
      "metadata": {
        "id": "FtLP85VVXBzy"
      }
    },
    {
      "cell_type": "code",
      "source": [
        "# Vervollständige die Funktion zur Registrierung von 2D-Punktmengen\n",
        "# (identisch zu oben, nur für 2D)\n",
        "def rigid_register_2d(a, b):\n",
        "    ...\n",
        "    \n",
        "    return trans\n",
        "\n"
      ],
      "metadata": {
        "id": "KEIBvqi8XIVO"
      },
      "execution_count": null,
      "outputs": []
    },
    {
      "cell_type": "code",
      "source": [
        "# Bilder laden\n",
        "ct_g, mrt_g = Uebung_4.aufg_2_b_get_imgs()\n",
        "\n",
        "plt.figure()\n",
        "io.imshow(ct_g)\n",
        "\n",
        "\n",
        "\n",
        "# Wähle natürliche Landmarken aus, indem Pixel-Koordinaten aus dem Bild ausgewählt werden:\n",
        "x_1 = np.array([\n",
        "    [x1, y1,  1],\n",
        "    [x2, y2,  1],\n",
        "    [x3, y3, 1],\n",
        "])\n",
        "\n",
        "## Wiederhole das Vorgehen für Bild 2\n",
        "\n",
        "\n",
        "# Berechne die Transformation und den FRE"
      ],
      "metadata": {
        "id": "2q-yHidDbI6R"
      },
      "execution_count": null,
      "outputs": []
    },
    {
      "cell_type": "markdown",
      "source": [
        "###Aufgabe 2 b.2)\n",
        "Verwende nun Bilddaten mit künstlichen Landmarken. Beginne mit der Landmarkenkonfiguration 1. Bestimme den FRE und überlagere die Bilder"
      ],
      "metadata": {
        "id": "GgcFseS8XI6P"
      }
    },
    {
      "cell_type": "code",
      "source": [
        "# Vorgehen analog zu oben, nur mit schon definierten Landmarken:\n",
        "\n",
        "....\n",
        "\n",
        "\n",
        "# Wähle künstliche Landmarken aus\n",
        "x_1 = np.array([\n",
        "    [40,  45.9,  1],\n",
        "    [161.9, 46.9,  1],\n",
        "    [97,  100.5, 1],\n",
        "    [41.9,  157.9, 1],\n",
        "    [163.3, 162, 1]\n",
        "])\n",
        "\n",
        "\n",
        "\n",
        "# Wähle künstliche Landmarken aus\n",
        "x_2 = np.array([\n",
        "    [82,    16.7,  1],\n",
        "    [196.5, 59.3,  1],\n",
        "    [116.4, 87.3,  1],\n",
        "    [45.2,  122.4, 1],\n",
        "    [158.1, 168.4, 1]\n",
        "])\n",
        "\n",
        "\n",
        "\n",
        "...."
      ],
      "metadata": {
        "id": "051jKoGrXST9"
      },
      "execution_count": null,
      "outputs": []
    },
    {
      "cell_type": "markdown",
      "source": [
        "### Aufgabe 2 b.3)\n",
        "Verwende nun die Landmarkenkonfiguration 2, bestimme den FRE und überlagere die Bilder. Welche Landmarkenkonfiguration wird im Mittel bessere Ergebnisse bei der Lokalisation des Targets liefern?"
      ],
      "metadata": {
        "id": "uyJ5ZVI2XTOI"
      }
    },
    {
      "cell_type": "code",
      "source": [
        "# Vorgehen analog zu oben, nur mit schon definierten Landmarken:\n",
        "\n",
        "....\n",
        "\n",
        "\n",
        "# Wähle künstliche Landmarken aus\n",
        "x_1 = np.array([\n",
        "    [44.8,  38.2,  1],\n",
        "    [152.9, 38.2,  1],\n",
        "    [41,    58,    1],\n",
        "    [158.1, 57.6,  1],\n",
        "    [99.8,  148.2, 1],\n",
        "])\n",
        "\n",
        "\n",
        "\n",
        "# Wähle künstliche Landmarken aus\n",
        "x_2 = np.array([\n",
        "    [88.9,  12.2, 1],\n",
        "    [190.4, 49.2, 1],\n",
        "    [78.4,  29.7, 1],\n",
        "    [188.9, 68.6, 1],\n",
        "    [102.6, 134,  1],\n",
        "])\n",
        "\n"
      ],
      "metadata": {
        "id": "FuiIBOBkXXW2"
      },
      "execution_count": null,
      "outputs": []
    },
    {
      "cell_type": "markdown",
      "source": [
        "##Lösung:"
      ],
      "metadata": {
        "id": "XNg874ZGW-eY"
      }
    },
    {
      "cell_type": "markdown",
      "source": [
        "### Aufgabe 2 a.1)"
      ],
      "metadata": {
        "id": "AvgVHMLIXh3Y"
      }
    },
    {
      "cell_type": "code",
      "metadata": {
        "id": "xD-vhX-yBNkL"
      },
      "source": [
        "# Funktion zur Registrierung von 3D-Punktmengen\n",
        "def rigid_register_3d(a, b):\n",
        "\n",
        "    # Schwerpunkte der Punktmengen\n",
        "    centroid_a = np.mean(a,axis=0)\n",
        "    centroid_b = np.mean(b,axis=0)\n",
        "    \n",
        "    # Schwerpunkte abziehen\n",
        "    a_m = a - centroid_a\n",
        "    b_m = b - centroid_b\n",
        "    \n",
        "    # Matrix W - @ = Matrixmultiplikator\n",
        "    W = (a_m.T @ b_m).T\n",
        "\n",
        "    # SVD \n",
        "    u, s, vt = np.linalg.svd(W)\n",
        "\n",
        "    # Rotationsmatrix R\n",
        "    R = u @ vt\n",
        "\n",
        "    # Translationsvektor t\n",
        "    t = centroid_b - R @ centroid_a \n",
        "\n",
        "    trans = np.eye(4)\n",
        "    trans[:3,:3] = R[:3,:3]\n",
        "    trans[:3,3] = t[:3]\n",
        "    \n",
        "    return trans"
      ],
      "execution_count": null,
      "outputs": []
    },
    {
      "cell_type": "code",
      "metadata": {
        "id": "hueb-JIgBNkL"
      },
      "source": [
        "# Transformation berechnen\n",
        "trans = rigid_register_3d(x_1, x_2)\n",
        "\n",
        "# Transformierte Punkte ansehen\n",
        "print((trans @ x_1.T).T)"
      ],
      "execution_count": null,
      "outputs": []
    },
    {
      "cell_type": "markdown",
      "source": [
        "### Aufgabe 2 a.2)"
      ],
      "metadata": {
        "id": "uzWqjWVzXpdZ"
      }
    },
    {
      "cell_type": "code",
      "metadata": {
        "id": "iP1AfVGaBNkM"
      },
      "source": [
        "# Funktion zur Berechnung des FREs\n",
        "def compute_fre(a, b):\n",
        "    # Mittelwert der quadrierte Differenzen \n",
        "    fre = np.mean((a-b)**2)\n",
        "    return fre\n",
        "\n",
        "# Punktmenge transformieren\n",
        "x_1_trans = (trans @ x_1.T).T\n",
        "\n",
        "\n",
        "# FRE berechnen\n",
        "compute_fre(x_1_trans, x_2)"
      ],
      "execution_count": null,
      "outputs": []
    },
    {
      "cell_type": "markdown",
      "source": [
        "### Aufgabe 2 b.1)"
      ],
      "metadata": {
        "id": "l58oLFgpXuWC"
      }
    },
    {
      "cell_type": "code",
      "metadata": {
        "id": "y8DTofYzBNkP"
      },
      "source": [
        "# Funktion zur Registrierung von 2D-Punktmengen\n",
        "# (identisch zu oben, nur für 2D)\n",
        "def rigid_register_2d(a, b):\n",
        "    centroid_a = np.mean(a, axis=0)\n",
        "    centroid_b = np.mean(b, axis=0)\n",
        "\n",
        "    a_m = a - centroid_a\n",
        "    b_m = b - centroid_b\n",
        "\n",
        "    # SVD\n",
        "    u, s, vh = np.linalg.svd(np.matmul(a_m.T, b_m))\n",
        "\n",
        "    # compose transformation\n",
        "    trans = np.eye(3)\n",
        "    R = np.matmul(u, vh).T\n",
        "    trans[:2, :2] = R[:2, :2]\n",
        "    t = centroid_b - np.matmul(R, centroid_a)\n",
        "    trans[:2, 2] = t[:2]\n",
        "    return trans"
      ],
      "execution_count": null,
      "outputs": []
    },
    {
      "cell_type": "code",
      "metadata": {
        "id": "2qUQE2m3BNkP"
      },
      "source": [
        "# Bilder laden\n",
        "ct_g, mrt_g = Uebung_4.aufg_2_b_get_imgs()\n",
        "\n",
        "# Bilder anzeigen\n",
        "plt.figure()\n",
        "io.imshow(ct_g)"
      ],
      "execution_count": null,
      "outputs": []
    },
    {
      "cell_type": "code",
      "metadata": {
        "id": "UufmOJFuBNkQ"
      },
      "source": [
        "# Wähle natürliche Landmarken aus\n",
        "x_1 = np.array([\n",
        "    [101.6,  39.3,  1],\n",
        "    [147.7, 99,  1],\n",
        "    [98.8,  157.9, 1],\n",
        "])\n",
        "# Anzzeigen der Landmarken im Bild\n",
        "plt.figure()\n",
        "io.imshow(ct_g)\n",
        "plt.plot(x_1[:3,0],x_1[:3,1],'rx',markersize=15)\n"
      ],
      "execution_count": null,
      "outputs": []
    },
    {
      "cell_type": "code",
      "metadata": {
        "id": "4LEVSdQNBNkQ"
      },
      "source": [
        "# Bild anzeigen\n",
        "plt.figure()\n",
        "io.imshow(mrt_g)"
      ],
      "execution_count": null,
      "outputs": []
    },
    {
      "cell_type": "code",
      "metadata": {
        "id": "cSLLFFanBNkQ"
      },
      "source": [
        "# Wähle natürliche Landmarken aus\n",
        "x_2 = np.array([\n",
        "    [162,  18.5,  1],\n",
        "    [173, 100.6,  1],\n",
        "    [92,  131, 1],\n",
        "])\n",
        "# Anzzeigen der Landmarken im Bild\n",
        "plt.figure()\n",
        "io.imshow(mrt_g)\n",
        "plt.plot(x_2[:3,0],x_2[:3,1],'rx',markersize=15)"
      ],
      "execution_count": null,
      "outputs": []
    },
    {
      "cell_type": "code",
      "metadata": {
        "id": "ZRGxkAAKBNkR"
      },
      "source": [
        "# Berechne Tranformation der natürlichen Landmarken und FRE\n",
        "trans = rigid_register_2d(x_2, x_1)\n",
        "x_2_trans = (trans @ x_2.T).T\n",
        "fre = compute_fre(x_1, x_2_trans)\n",
        "print(fre)"
      ],
      "execution_count": null,
      "outputs": []
    },
    {
      "cell_type": "markdown",
      "source": [
        "### Aufgabe 2 b.2)"
      ],
      "metadata": {
        "id": "ovTESDbPYKUW"
      }
    },
    {
      "cell_type": "code",
      "metadata": {
        "id": "rrYK9wEiBNkR"
      },
      "source": [
        "# Bilder laden\n",
        "ct_fid1, mrt_fid1 = Uebung_4.aufg_2_c_get_imgs()\n",
        "# Bild anzeigen\n",
        "plt.figure()\n",
        "io.imshow(ct_fid1)"
      ],
      "execution_count": null,
      "outputs": []
    },
    {
      "cell_type": "code",
      "metadata": {
        "id": "m8n0Vr8mBNkS"
      },
      "source": [
        "# Wähle künstliche Landmarken aus\n",
        "x_1 = np.array([\n",
        "    [40,    45.9,  1],\n",
        "    [161.9, 46.9,  1],\n",
        "    [97,    100.5, 1],\n",
        "    [41.9,  157.9, 1],\n",
        "    [163.3, 162,   1]\n",
        "])\n",
        "# Zeige Landmarken im Bild\n",
        "plt.figure()\n",
        "io.imshow(ct_fid1)\n",
        "plt.plot(x_1[:,0],x_1[:,1],'rx',markersize=15)"
      ],
      "execution_count": null,
      "outputs": []
    },
    {
      "cell_type": "code",
      "metadata": {
        "id": "YK3OG0HQBNkS"
      },
      "source": [
        "# Bild anzeigen\n",
        "plt.figure()\n",
        "io.imshow(mrt_fid1)"
      ],
      "execution_count": null,
      "outputs": []
    },
    {
      "cell_type": "code",
      "metadata": {
        "id": "-h43CkjYBNkS"
      },
      "source": [
        "# Wähle künstliche Landmarken aus\n",
        "x_2 = np.array([\n",
        "    [82,    16.7,  1],\n",
        "    [196.5, 59.3,  1],\n",
        "    [116.4, 87.3,  1],\n",
        "    [45.2,  122.4, 1],\n",
        "    [158.1, 168.4, 1]\n",
        "])"
      ],
      "execution_count": null,
      "outputs": []
    },
    {
      "cell_type": "code",
      "metadata": {
        "id": "sCqJ9XLgBNkT"
      },
      "source": [
        "# Berechne Transformation\n",
        "trans_c = rigid_register_2d(x_2, x_1)\n",
        "\n",
        "# Berechne FRE\n",
        "x_2_trans = (trans_c @ x_2.T).T\n",
        "compute_fre(x_1, x_2_trans)"
      ],
      "execution_count": null,
      "outputs": []
    },
    {
      "cell_type": "code",
      "metadata": {
        "id": "GNJUqqQfBNkT"
      },
      "source": [
        "# Warpe das Bild mittels der gefundenen Transformation\n",
        "from skimage.transform import warp\n",
        "mrt_warped = warp(mrt_fid1, np.linalg.inv(trans_c))\n",
        "plt.figure()\n",
        "io.imshow(mrt_warped)"
      ],
      "execution_count": null,
      "outputs": []
    },
    {
      "cell_type": "code",
      "metadata": {
        "id": "gAdq2v14BNkU"
      },
      "source": [
        "plt.figure()\n",
        "\n",
        "io.imshow(0.5*mrt_warped + 0.5*ct_fid1) #Overlay der beiden Bilder je mit 50% Transparens"
      ],
      "execution_count": null,
      "outputs": []
    },
    {
      "cell_type": "markdown",
      "source": [
        "### Aufgabe 2 b.3"
      ],
      "metadata": {
        "id": "246DqylHYsEq"
      }
    },
    {
      "cell_type": "code",
      "metadata": {
        "id": "UcTuuD08BNkU"
      },
      "source": [
        "# Bilder in Landmarkenkonfiguration 2 laden\n",
        "ct_fid2, mrt_fid2 = Uebung_4.aufg_2_d_get_imgs()\n",
        "\n",
        "# Bild anzeigen\n",
        "plt.figure()\n",
        "io.imshow(ct_fid2)"
      ],
      "execution_count": null,
      "outputs": []
    },
    {
      "cell_type": "code",
      "metadata": {
        "id": "YOCHzQ6KBNkV"
      },
      "source": [
        "# Wähle künstliche Landmarken aus\n",
        "x_1 = np.array([\n",
        "    [44.8,  38.2,  1],\n",
        "    [152.9, 38.2,  1],\n",
        "    [41,    58,    1],\n",
        "    [158.1, 57.6,  1],\n",
        "    [99.8,  148.2, 1],\n",
        "])\n",
        "\n",
        "# Bild mit Landmarken anzeigen:\n",
        "plt.figure()\n",
        "io.imshow(mrt_fid2)"
      ],
      "execution_count": null,
      "outputs": []
    },
    {
      "cell_type": "code",
      "metadata": {
        "id": "e2mFiOX6BNkV"
      },
      "source": [
        ""
      ],
      "execution_count": null,
      "outputs": []
    },
    {
      "cell_type": "code",
      "metadata": {
        "id": "eet0RsykBNkV"
      },
      "source": [
        "# Wähle künstliche Landmarken aus\n",
        "x_2 = np.array([\n",
        "    [88.9,  12.2, 1],\n",
        "    [190.4, 49.2, 1],\n",
        "    [78.4,  29.7, 1],\n",
        "    [188.9, 68.6, 1],\n",
        "    [102.6, 134,  1],\n",
        "])"
      ],
      "execution_count": null,
      "outputs": []
    },
    {
      "cell_type": "code",
      "metadata": {
        "id": "v0L8BZBMBNkW"
      },
      "source": [
        "# Transforamtion und Fehlermaß berechnen\n",
        "trans_d = rigid_register_2d(x_2, x_1)\n",
        "x_2_trans = (trans_d @ x_2.T).T\n",
        "compute_fre(x_1, x_2_trans)"
      ],
      "execution_count": null,
      "outputs": []
    },
    {
      "cell_type": "markdown",
      "metadata": {
        "id": "doEPGYhJBNkW"
      },
      "source": [
        "Ergebnis: Der FRE ist deutlich höher! Die Konfiguration der künstlichen Landmarken kann großen Einfluss auf die Registrierung haben."
      ]
    },
    {
      "cell_type": "markdown",
      "metadata": {
        "id": "AEul1_j8BNkW"
      },
      "source": [
        "# Registrierung Aufgabe 3\n",
        "Aufgabenteil 1 als Intro:"
      ]
    },
    {
      "cell_type": "code",
      "metadata": {
        "id": "bFNAWiUNBNkX"
      },
      "source": [
        "# Bilder laden (7x7 mit Werten 1–8)\n",
        "i_1, i_2 = Uebung_4.aufg_3_get_imgs()\n",
        "print(i_1)\n",
        "print(i_2)"
      ],
      "execution_count": null,
      "outputs": []
    },
    {
      "cell_type": "markdown",
      "metadata": {
        "id": "ZPd9zHpeBNkX"
      },
      "source": [
        "## Gemeinsames Histogramm\n",
        "\n",
        "Das gemeinsame Histogramm ist eine Matrix mit 8x8 Einträgen, wenn die Werte im Bereich 1–8 liegen.\n",
        "Jeder Eintrag gibt an, wie oft eine Intensität vom einen Bild auf Intensitäten des anderen Bildes abgebildet werden. Bspw: Der Wert 1 aus i_1 wird drei mal auf 1 abgebildet, daher bekommt der obere linke Eintrag eine 3 (drei mal 1 auf 1)."
      ]
    },
    {
      "cell_type": "code",
      "metadata": {
        "id": "_6Oj6qUgyW8M"
      },
      "source": [
        "hist2, xedges, yedges = np.histogram2d(\n",
        "    i_2.flatten(),  # Bild 2 auf der y-Achse\n",
        "    i_1.flatten(),  # Bild 1 auf der x-Achse\n",
        "    bins=(range(1, 10))) # 8 Bins im Bereich [1,9)\n",
        "print(hist2)"
      ],
      "execution_count": null,
      "outputs": []
    },
    {
      "cell_type": "code",
      "metadata": {
        "id": "AGTKaCGvBNkX"
      },
      "source": [
        "plt.figure()\n",
        "io.imshow(hist,origin='lower')"
      ],
      "execution_count": null,
      "outputs": []
    },
    {
      "cell_type": "markdown",
      "metadata": {
        "id": "lChARRJgBNkX"
      },
      "source": [
        "Abschließend wollen wir uns das gemeinsame Histogramm der Bilder aus Aufgabe 2 berechnen. Um ein Gefühl für das Gütekriterium \"gemeinsames Histogram\" zu bekommen, berechne das Histogramm sowohl für den registierten als auch den unregistrierten Fall. "
      ]
    },
    {
      "cell_type": "code",
      "source": [
        ""
      ],
      "metadata": {
        "id": "LRlwtBFuZm9M"
      },
      "execution_count": null,
      "outputs": []
    },
    {
      "cell_type": "markdown",
      "source": [
        "## Lösung"
      ],
      "metadata": {
        "id": "OwbIzglaZywE"
      }
    },
    {
      "cell_type": "code",
      "metadata": {
        "scrolled": false,
        "id": "nvgsK-DHBNkY"
      },
      "source": [
        "# Berechnen des gemeinsamen Histograms von einem Bild mit sich selbst --> perfekte Registrierung\n",
        "\n",
        "hist, xedges, yedges = np.histogram2d(ct_g.flatten(), ct_g.flatten(), bins=255)\n",
        "# Skalieren der Werte für bessere Anzeige\n",
        "hist = hist/(1+hist)\n",
        "\n",
        "plt.figure()\n",
        "plt.imshow(hist,origin='lower')\n",
        "# Bei zwei identischen Bildern ist das gemeinsame Histogramm eine Diagonale (Ursprung unten links)"
      ],
      "execution_count": null,
      "outputs": []
    },
    {
      "cell_type": "code",
      "metadata": {
        "id": "T8OLobrDBNkY"
      },
      "source": [
        "# Gemeinsames Histogram der beiden Bilder aus Aufgabe 2 - unregistriert\n",
        "hist, xedges, yedges = np.histogram2d(ct_g.flatten(), mrt_g.flatten(), bins=255)\n",
        "\n",
        "# Skalieren der Werte für bessere Anzeige\n",
        "hist = hist/(1+hist)\n",
        "\n",
        "plt.figure()\n",
        "plt.imshow(hist,origin='lower')\n",
        "# Bei zwei verschiedenen Bildern ist das gemeinsame Histogramm verschmiert"
      ],
      "execution_count": null,
      "outputs": []
    },
    {
      "cell_type": "code",
      "metadata": {
        "id": "s60-KTQCBNkY"
      },
      "source": [
        "# Gemeinsames Histogram der beiden Bilder aus Aufgabe 2 - registriert\n",
        "hist, xedges, yedges = np.histogram2d(ct_g.flatten(), mrt_warped.flatten(), bins=255)\n",
        "\n",
        "# Skalieren der Werte für bessere Anzeige\n",
        "hist = hist/(1+hist)\n",
        "\n",
        "plt.figure()\n",
        "plt.imshow(hist,origin='lower')\n",
        "\n",
        "# Bei erfolgreicher Registrierung rücken die Werte weiter Richtung der Diagonalen"
      ],
      "execution_count": null,
      "outputs": []
    },
    {
      "cell_type": "markdown",
      "metadata": {
        "id": "9CMEB8uRBNkZ"
      },
      "source": [
        "# Registrierung 4\n",
        "\n"
      ]
    },
    {
      "cell_type": "markdown",
      "metadata": {
        "id": "uSul8orDBNkZ"
      },
      "source": [
        "Der Iterative Closest Point Algorithm (ICP) ist ein Algorithmus, der es ermöglicht, Punktwolken aneinander anzupassen, auch wenn wir die korrespondierenden Punkte nicht kennen.\n",
        "Für die Anwendung des Verfahrens müssen die Punktwolken bereits vorab näherungsweise aufeinander ausgerichtet sein.\n",
        "\n",
        "Das Vorgehen lautet:\n",
        "1. Finde die nächsten Nachbarn von Punktmenge $X_1$ in Punktmenge $X_2$\n",
        "2. Berechne die Transformation (mittels rigider Registrierung) auf Basis der Nachbarn\n",
        "3. Transformiere die Punktmengen mit der berechneten Registrierung\n",
        "4. Wiederhole, bis Fehler minimal oder Anzahl Iterationen erreicht\n",
        "\n",
        "https://de.wikipedia.org/wiki/Iterative_Closest_Point_Algorithm\n",
        "\n",
        "Vervollständige den untenstehenden Code."
      ]
    },
    {
      "cell_type": "code",
      "source": [
        "# Laden der Punktwolken\n",
        "pc1, pc2 = Uebung_4.aufg_4_get_pointclouds()\n",
        "\n",
        "# Punktwolken anzeigen\n",
        "Uebung_4.plot_pointcloud(pc1, pc2)\n",
        "\n"
      ],
      "metadata": {
        "id": "IA-aP1GIaYOm"
      },
      "execution_count": null,
      "outputs": []
    },
    {
      "cell_type": "code",
      "source": [
        "# Funktion zum Finden des nächsten Nachbarn von x in der Punktmenge pc\n",
        "def find_neighbor(x, pc):\n",
        "    ...\n",
        "    \n",
        "    return pc[idx]\n",
        "\n",
        "# Funktion des ICP-Algorithmus\n",
        "def icp(pc1, pc2, iterations=10):\n",
        "    \n",
        "    # initialisiere die finale Transformation\n",
        "    final_trans = np.eye(4)\n",
        "    \n",
        "    # wiederhole die Iterationen n mal\n",
        "    for i in range(iterations):\n",
        "        \n",
        "        # finde die Nachbarn aller Punkte und schreibe sie in eine Liste\n",
        "        ...\n",
        "        \n",
        "        # berechne die Transformation\n",
        "        trans = rigid_register_3d(pc1, neighbors)\n",
        "        \n",
        "        # wende die Transformation an\n",
        "        pc1 = (trans @ pc1.T).T\n",
        "        final_trans = trans @ final_trans\n",
        "    \n",
        "    return pc1, final_trans\n",
        "    "
      ],
      "metadata": {
        "id": "KpCFVSQ3b8ps"
      },
      "execution_count": null,
      "outputs": []
    },
    {
      "cell_type": "code",
      "source": [
        "\n",
        "\n",
        "pc1_trans, pc1_trans_mat = icp(pc1, pc2)\n",
        "fre = compute_fre(pc1_trans, pc2)\n",
        "print(fre)\n",
        "\n",
        "Uebung_4.plot_pointcloud(pc1_trans, pc2)\n",
        "\n",
        "# Wenn die Punktwolken nicht gut vorausgerichtet waren, kann ICP in einem lokalen Minimum stecken bleiben:\n",
        "\n"
      ],
      "metadata": {
        "id": "JwUtoeYNb9ax"
      },
      "execution_count": null,
      "outputs": []
    },
    {
      "cell_type": "markdown",
      "source": [
        "## Lösung\n"
      ],
      "metadata": {
        "id": "S6CILIP1aZK8"
      }
    },
    {
      "cell_type": "code",
      "metadata": {
        "id": "ISYNlAuGBNkZ"
      },
      "source": [
        "# Laden der Punktwolken\n",
        "pc1, pc2 = Uebung_4.aufg_4_get_pointclouds()"
      ],
      "execution_count": null,
      "outputs": []
    },
    {
      "cell_type": "code",
      "metadata": {
        "id": "YdVBART2sI0q"
      },
      "source": [
        "pc1.shape"
      ],
      "execution_count": null,
      "outputs": []
    },
    {
      "cell_type": "code",
      "metadata": {
        "id": "zDvjzEKUBNkZ"
      },
      "source": [
        "# Punktwolken anzeigen\n",
        "Uebung_4.plot_pointcloud(pc1, pc2)"
      ],
      "execution_count": null,
      "outputs": []
    },
    {
      "cell_type": "code",
      "metadata": {
        "id": "E9vN_U7dBNka"
      },
      "source": [
        "# Funktion zum Finden des nächsten Nachbarn von x in der Punktmenge pc\n",
        "def find_neighbor(x, pc):\n",
        "    # berechne die euklidischen Abstände aller Punkte zu x\n",
        "    diffs = np.sum((pc-x)**2, axis = 1)\n",
        "\n",
        "    # finde clostest point\n",
        "\n",
        "    idx = np.argmin(diffs)\n",
        "    return pc[idx]\n",
        "\n",
        "# Funktion des ICP-Algorithmus\n",
        "def icp(pc1, pc2, iterations=10):\n",
        "    \n",
        "    # initialisiere die finale Transformation\n",
        "    final_trans = np.eye(4)\n",
        "    \n",
        "    # wiederhole die Iterationen n mal\n",
        "    for i in range(iterations):\n",
        "        \n",
        "        # finde die Nachbarn aller Punkte und schreibe sie in eine Liste\n",
        "        neighbours = []\n",
        "        for p in pc1:\n",
        "          neighbor = find_neighbor(p, pc2) \n",
        "          neighbours.append(neighbor)\n",
        "        neighbours = np.array(neighbours)\n",
        "        # berechne die Transformation \n",
        "        trans = rigid_register_3d(pc1, neighbours)\n",
        "        # wende die Transformation an\n",
        "        pc1 = (trans @ pc1.T).T\n",
        "        final_trans = trans @ final_trans\n",
        "    \n",
        "    return pc1, final_trans"
      ],
      "execution_count": null,
      "outputs": []
    },
    {
      "cell_type": "code",
      "metadata": {
        "id": "3W7Ibb3xBNka"
      },
      "source": [
        "pc1_trans, pc1_trans_mat = icp(pc1, pc2, 10)\n",
        "fre1 = compute_fre(pc1, pc2)\n",
        "fre2 = compute_fre(pc1_trans, pc2)\n",
        "\n",
        "print(fre1)\n",
        "print(fre2)"
      ],
      "execution_count": null,
      "outputs": []
    },
    {
      "cell_type": "code",
      "metadata": {
        "id": "YL5NFkxnwlxX"
      },
      "source": [
        "Uebung_4.plot_pointcloud(pc1_trans, pc2)"
      ],
      "execution_count": null,
      "outputs": []
    },
    {
      "cell_type": "markdown",
      "metadata": {
        "id": "rvfYujnhBNka"
      },
      "source": [
        "## Zusatzaufgabe: RANSAC-Algorithmus\n",
        "\n",
        "Um auch ohne eine gute Vorausrichtung eine Transformation zu berechnen, können wir den RANSAC-Algorithmus verwenden (__RAN__dom __SA__mple __C__onsensus, deutsch etwa: Übereinstimmung zufälliger Stichproben).\n",
        "Dieser nimmt nicht die gesamte Punktmenge für die Registrierung, sondern nur eine kleine Stichprobe.\n",
        "Die Registrierung wird oft für verschiedene Stichproben wiederholt und das beste Ergebnis behalten.\n",
        "Vervollständige den untenstehenden Code."
      ]
    },
    {
      "cell_type": "code",
      "source": [
        "def ransac(pc1, pc2, samples=4, iterations_ransac=1000):\n",
        "\n",
        "    # Registrierung mit allen Punkten (Ausgangslage)\n",
        "    pc1_trans_best, trans_best = icp(pc1, pc2)\n",
        "    fre_best = compute_fre(pc1_trans_best, pc2)\n",
        "    \n",
        "    # Wiederhole oft\n",
        "    for i in range(iterations_ransac):\n",
        "        \n",
        "        # ziehe zufällige Stichproben\n",
        "        pc1_rand = ...\n",
        "        \n",
        "        # Berechne die Transformation mit der Stichprobe\n",
        "        _, trans = icp(pc1_rand, pc2)\n",
        "        \n",
        "        # Berechne den Fehler\n",
        "        pc1_trans = (trans @ pc1.T).T\n",
        "        fre = compute_fre(pc1_trans, pc2)\n",
        "\n",
        "        # Haben wir ein neues bestes Ergebnis?\n",
        "        if fre < fre_best:\n",
        "            ...\n",
        "    \n",
        "    return pc1_trans_best, trans_best, fre_best\n",
        "\n",
        "pc1_trans, trans, fre = ransac(pc1, pc2)\n",
        "print(fre)\n",
        "\n",
        "0.0220752540642516\n",
        "\n",
        "# Das Ergebnis ist noch nicht gut, aber liefert eine akzeptable Startlage:\n",
        "Uebung_4.plot_pointcloud(pc1_trans, pc2)\n",
        "\n"
      ],
      "metadata": {
        "id": "k_Bq6q69cHLz"
      },
      "execution_count": null,
      "outputs": []
    },
    {
      "cell_type": "code",
      "source": [
        "# Auf Basis dieser Startlage können wir nochmal den ICP mit allen Punkten anwenden\n",
        "\n",
        "pc1_trans_final, _, = icp(pc1_trans, pc2)\n",
        "print(compute_fre(pc1_trans_final, pc2))\n",
        "\n",
        "# Das Ergebnis ist perfekt:\n",
        "Uebung_4.plot_pointcloud(pc1_trans_final, pc2)"
      ],
      "metadata": {
        "id": "NKEz2bPncMJv"
      },
      "execution_count": null,
      "outputs": []
    },
    {
      "cell_type": "markdown",
      "source": [
        "### Lösung"
      ],
      "metadata": {
        "id": "8YKcBQWHcHgF"
      }
    },
    {
      "cell_type": "code",
      "metadata": {
        "id": "gwBnt5J4BNkb"
      },
      "source": [
        "def ransac(pc1, pc2, samples=4, iterations_ransac=1000):\n",
        "\n",
        "    # Registrierung mit allen Punkten (Ausgangslage)\n",
        "    best_pc1_trans, best_trans_mat = icp(pc1, pc2)\n",
        "    best_fre = compute_fre(best_pc1_trans, pc2)\n",
        "\n",
        "    # Wiederhole oft\n",
        "    for i in range(iterations_ransac):\n",
        "        \n",
        "        # ziehe zufällige Stichproben\n",
        "        rand_ind = np.random.randint(0,pc1.shape[0], samples)\n",
        "        rand_pc1 = pc1[rand_ind]\n",
        "        \n",
        "        # Berechne die Transformation mit der Stichprobe\n",
        "        _, trans = icp(rand_pc1, pc2)\n",
        "        \n",
        "        # Berechne den Fehler\n",
        "        pc1_trans = (trans @ pc1.T).T\n",
        "        fre = compute_fre(pc1_trans, pc2)\n",
        "\n",
        "        # Haben wir ein neues bestes Ergebnis?\n",
        "        if fre < best_fre:\n",
        "          best_fre = fre\n",
        "          best_pc1_trans = pc1_trans\n",
        "          best_trans = trans\n",
        "    \n",
        "    return best_pc1_trans, best_trans, best_fre"
      ],
      "execution_count": null,
      "outputs": []
    },
    {
      "cell_type": "code",
      "metadata": {
        "id": "uhYsJqowBNkc"
      },
      "source": [
        "pc1_trans, trans, fre = ransac(pc1, pc2)\n",
        "print(fre)"
      ],
      "execution_count": null,
      "outputs": []
    },
    {
      "cell_type": "code",
      "metadata": {
        "id": "J-alC3e5zeSg"
      },
      "source": [
        "Uebung_4.plot_pointcloud(pc1_trans, pc2)"
      ],
      "execution_count": null,
      "outputs": []
    },
    {
      "cell_type": "code",
      "metadata": {
        "id": "K2p2LRkvz5mY"
      },
      "source": [
        "final_pc1_trans, _, = icp(pc1_trans, pc2)\n",
        "print(compute_fre(final_pc1_trans, pc2))\n",
        "\n",
        "Uebung_4.plot_pointcloud(final_pc1_trans, pc2)"
      ],
      "execution_count": null,
      "outputs": []
    },
    {
      "cell_type": "code",
      "metadata": {
        "id": "ndqC75jPBNkc"
      },
      "source": [
        "# Das Ergebnis ist noch nicht gut, aber liefert eine akzeptable Startlage:\n",
        "Uebung_4.plot_pointcloud(pc1_trans, pc2)"
      ],
      "execution_count": null,
      "outputs": []
    },
    {
      "cell_type": "code",
      "metadata": {
        "id": "DDt9Ero1BNkc"
      },
      "source": [
        "# Auf Basis dieser Startlage können wir nochmal den ICP mit allen Punkten anwenden\n",
        "\n",
        "\n",
        "# Das Ergebnis ist perfekt:\n"
      ],
      "execution_count": null,
      "outputs": []
    },
    {
      "cell_type": "code",
      "metadata": {
        "id": "imvgRO-LBNkk"
      },
      "source": [
        ""
      ],
      "execution_count": null,
      "outputs": []
    }
  ]
}